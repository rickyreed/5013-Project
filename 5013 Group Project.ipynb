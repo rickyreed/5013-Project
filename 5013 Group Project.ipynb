{
 "cells": [
  {
   "cell_type": "code",
   "execution_count": 1,
   "id": "b5f6ea4d",
   "metadata": {},
   "outputs": [
    {
     "name": "stdout",
     "output_type": "stream",
     "text": [
      "[1. 1. 1. ... 1. 1. 1.]\n"
     ]
    }
   ],
   "source": [
    "import gurobipy as gp\n",
    "from gurobipy import GRB\n",
    "import pandas as pd\n",
    "from numpy import genfromtxt\n",
    "import numpy as np\n",
    "rt = genfromtxt(r\"C:\\Users\\ricky\\Downloads\\ZJX_West.csv\", delimiter=',')\n",
    "#rt.rename(columns={'1': 'data'}, inplace=True)\n",
    "#rt2 = list(rt.data)\n",
    "print(rt)"
   ]
  },
  {
   "cell_type": "code",
   "execution_count": 2,
   "id": "e3463c0f",
   "metadata": {},
   "outputs": [
    {
     "name": "stdout",
     "output_type": "stream",
     "text": [
      "range(1, 1345)\n",
      "range(1, 3)\n"
     ]
    }
   ],
   "source": [
    "T = 1344 #total number of time periods\n",
    "tpmins= 15 #total length of each time period in minutes\n",
    "shift = [8, 10] #regular and compressed shift lengths\n",
    "\n",
    "indices = range(1, len(rt)+1)\n",
    "indices2 = range(1, len(shift)+1)\n",
    "print(indices)\n",
    "print(indices2)"
   ]
  },
  {
   "cell_type": "code",
   "execution_count": 3,
   "id": "c1111965",
   "metadata": {},
   "outputs": [
    {
     "name": "stdout",
     "output_type": "stream",
     "text": [
      "[1.000e+00 1.000e+00 1.000e+00 ... 1.311e+03 1.312e+03 1.313e+03]\n",
      "[1.000e+00 1.000e+00 1.000e+00 ... 1.303e+03 1.304e+03 1.305e+03]\n"
     ]
    }
   ],
   "source": [
    "tau_1 = np.array([max(1, t - 60 * shift[0] /15 + 1) for t in range (1, T +1)])\n",
    "#tau_1[tau_1 < 0] = 0\n",
    "tau_2 = np.array([max(1, t - 60 * shift[1] /15 + 1) for t in range (1, T +1)])\n",
    "print(tau_1)\n",
    "print(tau_2)"
   ]
  },
  {
   "cell_type": "code",
   "execution_count": 8,
   "id": "94bc4d76",
   "metadata": {},
   "outputs": [
    {
     "ename": "IndexError",
     "evalue": "index 1344 is out of bounds for axis 0 with size 1344",
     "output_type": "error",
     "traceback": [
      "\u001b[1;31m---------------------------------------------------------------------------\u001b[0m",
      "\u001b[1;31mIndexError\u001b[0m                                Traceback (most recent call last)",
      "\u001b[1;32m~\\AppData\\Local\\Temp/ipykernel_4948/2593420950.py\u001b[0m in \u001b[0;36m<module>\u001b[1;34m\u001b[0m\n\u001b[0;32m     16\u001b[0m            \u001b[1;31m# m.addConstr(gp.quicksum(x[i, j] for i in indices >= rt[j]))\u001b[0m\u001b[1;33m\u001b[0m\u001b[1;33m\u001b[0m\u001b[0m\n\u001b[0;32m     17\u001b[0m \u001b[1;33m\u001b[0m\u001b[0m\n\u001b[1;32m---> 18\u001b[1;33m     \u001b[0mm\u001b[0m\u001b[1;33m.\u001b[0m\u001b[0maddConstrs\u001b[0m\u001b[1;33m(\u001b[0m\u001b[0mgp\u001b[0m\u001b[1;33m.\u001b[0m\u001b[0mquicksum\u001b[0m\u001b[1;33m(\u001b[0m\u001b[0mx\u001b[0m\u001b[1;33m[\u001b[0m\u001b[0mi\u001b[0m\u001b[1;33m,\u001b[0m \u001b[0mj\u001b[0m\u001b[1;33m]\u001b[0m \u001b[1;32mfor\u001b[0m \u001b[0mj\u001b[0m \u001b[1;32min\u001b[0m \u001b[0mindices2\u001b[0m\u001b[1;33m)\u001b[0m \u001b[1;33m>=\u001b[0m \u001b[0mrt\u001b[0m\u001b[1;33m[\u001b[0m\u001b[0mi\u001b[0m\u001b[1;33m]\u001b[0m \u001b[1;32mfor\u001b[0m \u001b[0mi\u001b[0m \u001b[1;32min\u001b[0m \u001b[0mindices\u001b[0m\u001b[1;33m)\u001b[0m\u001b[1;33m\u001b[0m\u001b[1;33m\u001b[0m\u001b[0m\n\u001b[0m\u001b[0;32m     19\u001b[0m \u001b[1;33m\u001b[0m\u001b[0m\n\u001b[0;32m     20\u001b[0m     \u001b[1;31m#m.addConstr(x[i, j] == 0)\u001b[0m\u001b[1;33m\u001b[0m\u001b[1;33m\u001b[0m\u001b[0m\n",
      "\u001b[1;32msrc\\gurobipy\\model.pxi\u001b[0m in \u001b[0;36mgurobipy.Model.addConstrs\u001b[1;34m()\u001b[0m\n",
      "\u001b[1;32m~\\AppData\\Local\\Temp/ipykernel_4948/2593420950.py\u001b[0m in \u001b[0;36m<genexpr>\u001b[1;34m(.0)\u001b[0m\n\u001b[0;32m     16\u001b[0m            \u001b[1;31m# m.addConstr(gp.quicksum(x[i, j] for i in indices >= rt[j]))\u001b[0m\u001b[1;33m\u001b[0m\u001b[1;33m\u001b[0m\u001b[0m\n\u001b[0;32m     17\u001b[0m \u001b[1;33m\u001b[0m\u001b[0m\n\u001b[1;32m---> 18\u001b[1;33m     \u001b[0mm\u001b[0m\u001b[1;33m.\u001b[0m\u001b[0maddConstrs\u001b[0m\u001b[1;33m(\u001b[0m\u001b[0mgp\u001b[0m\u001b[1;33m.\u001b[0m\u001b[0mquicksum\u001b[0m\u001b[1;33m(\u001b[0m\u001b[0mx\u001b[0m\u001b[1;33m[\u001b[0m\u001b[0mi\u001b[0m\u001b[1;33m,\u001b[0m \u001b[0mj\u001b[0m\u001b[1;33m]\u001b[0m \u001b[1;32mfor\u001b[0m \u001b[0mj\u001b[0m \u001b[1;32min\u001b[0m \u001b[0mindices2\u001b[0m\u001b[1;33m)\u001b[0m \u001b[1;33m>=\u001b[0m \u001b[0mrt\u001b[0m\u001b[1;33m[\u001b[0m\u001b[0mi\u001b[0m\u001b[1;33m]\u001b[0m \u001b[1;32mfor\u001b[0m \u001b[0mi\u001b[0m \u001b[1;32min\u001b[0m \u001b[0mindices\u001b[0m\u001b[1;33m)\u001b[0m\u001b[1;33m\u001b[0m\u001b[1;33m\u001b[0m\u001b[0m\n\u001b[0m\u001b[0;32m     19\u001b[0m \u001b[1;33m\u001b[0m\u001b[0m\n\u001b[0;32m     20\u001b[0m     \u001b[1;31m#m.addConstr(x[i, j] == 0)\u001b[0m\u001b[1;33m\u001b[0m\u001b[1;33m\u001b[0m\u001b[0m\n",
      "\u001b[1;31mIndexError\u001b[0m: index 1344 is out of bounds for axis 0 with size 1344"
     ]
    }
   ],
   "source": [
    "try:\n",
    "    \n",
    "    m = gp.Model(\"Shift Distribution Problem\")\n",
    "    \n",
    "    #vector of variables\n",
    "    x = {}\n",
    "    #x[i, j] = m.addVars(indices, indices2, lb=0.0, vtype = GRB.BINARY, name='binary')\n",
    "    x = m.addVars(indices, indices2, lb=0.0, vtype = GRB.BINARY, name='binary')\n",
    "\n",
    "    #set objective\n",
    "    m.setObjective(gp.quicksum([x[i, j] for i in indices for j in indices2]), GRB.MINIMIZE)\n",
    "    \n",
    "    #adding constraints\n",
    "    #for i in indices:\n",
    "        #for j in indices2:\n",
    "           # m.addConstr(gp.quicksum(x[i, j] for i in indices >= rt[j]))\n",
    "            \n",
    "    m.addConstrs(gp.quicksum(x[i, j] for  in indices2) >= rt[i] for i in indices)\n",
    "            \n",
    "    #m.addConstr(x[i, j] == 0)\n",
    "    #m.addConstr(x[i, j] == 1)\n",
    "    \n",
    "    m.write('Shift Distribution Problem.lp')\n",
    "    m.optimize()\n",
    "    \n",
    "    #output\n",
    "    if m.status == GRB.OPTIMAL:\n",
    "        for v in m.getVars():\n",
    "            print('%s %g' % (v.varName, v.x))\n",
    "            print('Obj: %g' % m.objVal)\n",
    "    elif m.status == GRB.INFEASIBLE:\n",
    "        print('LP is infeasible.')\n",
    "    elif m.status == GRB.UNBOUNDED:\n",
    "        print('LP is unbounded.')\n",
    "except gp.GurobiError as e:\n",
    "        print('Error code ' + str(e.errno) + \": \" + str(e))\n",
    "except AttributeError:\n",
    "        print('Encountered an attribute error')"
   ]
  },
  {
   "cell_type": "code",
   "execution_count": 5,
   "id": "c55a1ab7",
   "metadata": {},
   "outputs": [],
   "source": [
    "m.write('Shift Distribution Problem.lp')"
   ]
  },
  {
   "cell_type": "code",
   "execution_count": 6,
   "id": "84f37f8d",
   "metadata": {},
   "outputs": [
    {
     "data": {
      "text/plain": [
       "2688"
      ]
     },
     "execution_count": 6,
     "metadata": {},
     "output_type": "execute_result"
    }
   ],
   "source": [
    "len(x)"
   ]
  },
  {
   "cell_type": "code",
   "execution_count": 42,
   "id": "08b100e0",
   "metadata": {},
   "outputs": [
    {
     "data": {
      "text/plain": [
       "1"
      ]
     },
     "execution_count": 42,
     "metadata": {},
     "output_type": "execute_result"
    }
   ],
   "source": [
    "len(indices2)"
   ]
  },
  {
   "cell_type": "code",
   "execution_count": 43,
   "id": "4bf058ff",
   "metadata": {},
   "outputs": [
    {
     "data": {
      "text/plain": [
       "range(1, 2)"
      ]
     },
     "execution_count": 43,
     "metadata": {},
     "output_type": "execute_result"
    }
   ],
   "source": [
    "indices2"
   ]
  },
  {
   "cell_type": "code",
   "execution_count": null,
   "id": "5d1c23a7",
   "metadata": {},
   "outputs": [],
   "source": []
  }
 ],
 "metadata": {
  "kernelspec": {
   "display_name": "Python 3 (ipykernel)",
   "language": "python",
   "name": "python3"
  },
  "language_info": {
   "codemirror_mode": {
    "name": "ipython",
    "version": 3
   },
   "file_extension": ".py",
   "mimetype": "text/x-python",
   "name": "python",
   "nbconvert_exporter": "python",
   "pygments_lexer": "ipython3",
   "version": "3.9.7"
  }
 },
 "nbformat": 4,
 "nbformat_minor": 5
}
